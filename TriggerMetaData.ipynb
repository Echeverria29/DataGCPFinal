{
  "nbformat": 4,
  "nbformat_minor": 0,
  "metadata": {
    "colab": {
      "provenance": []
    },
    "kernelspec": {
      "name": "python3",
      "display_name": "Python 3"
    },
    "language_info": {
      "name": "python"
    }
  },
  "cells": [
    {
      "cell_type": "code",
      "execution_count": null,
      "metadata": {
        "id": "pNyii3JLdCWm"
      },
      "outputs": [],
      "source": [
        "import pandas as pd\n",
        "from pandas.io import gbq\n",
        "from google.cloud import bigquery\n",
        "\n",
        "\n",
        "\n",
        "\n",
        "def data1(event, context):\n",
        "\n",
        "    lst = []\n",
        "    file_name = event['name']\n",
        "    table_name = file_name.split('.')[0]\n",
        "\n",
        "\n",
        "    # Event,File metadata details writing into Big Query\n",
        "    dct={\n",
        "         'Event_ID':context.event_id,\n",
        "         'Event_type':context.event_type,\n",
        "         'Bucket_name':event['bucket'],\n",
        "         'File_name':event['name'],\n",
        "         'Created':event['timeCreated'],\n",
        "         'Updated':event['updated']\n",
        "        }\n",
        "    lst.append(dct)\n",
        "    df_metadata = pd.DataFrame.from_records(lst)\n",
        "    df_metadata.to_gbq('conjunto_metada_001.data_register_001',\n",
        "                        project_id='sacred-archway-424015-n9',\n",
        "                        if_exists='append',\n",
        "                        location='us')\n",
        "\n",
        "    # Actual file data , writing to Big Query\n",
        "    df_data = pd.read_csv('gs://' + event['bucket'] + '/' + file_name)\n",
        "\n",
        "\n",
        "    df_data.to_gbq('archivos_agregados.' + table_name,\n",
        "                        project_id='sacred-archway-424015-n9',\n",
        "                        if_exists='append',\n",
        "                        location='us')\n",
        "\n",
        "\n"
      ]
    },
    {
      "cell_type": "markdown",
      "source": [
        "REQUERIMENTS\n",
        "functions-framework==3.*\n",
        "requests==2.26.0\n",
        "gcsfs==2023.9.0\n",
        "fsspec==2023.9.0\n",
        "pandas==1.4.0\n",
        "pandas-gbq==0.15.0\n",
        "numpy==1.22.0   # Specify a compatible numpy version\n",
        "\n"
      ],
      "metadata": {
        "id": "dpQw_1mkdWr3"
      }
    }
  ]
}