{
  "nbformat": 4,
  "nbformat_minor": 0,
  "metadata": {
    "colab": {
      "provenance": []
    },
    "kernelspec": {
      "name": "python3",
      "display_name": "Python 3"
    },
    "language_info": {
      "name": "python"
    }
  },
  "cells": [
    {
      "cell_type": "code",
      "execution_count": null,
      "metadata": {
        "id": "eoJFGedDcl96"
      },
      "outputs": [],
      "source": [
        "import requests\n",
        "from google.cloud import storage\n",
        "\n",
        "\n",
        "def f_cole_m(request):\n",
        "    try:\n",
        "        # Definir los enlaces específicos de descarga desde Google Drive\n",
        "        urls = [\n",
        "            \"https://drive.google.com/uc?export=download&id=1-yxv8mHKjEKWz0Zud9RV04wAlzGTfhCt\",\n",
        "            \"https://drive.google.com/uc?export=download&id=17q1AXAtaXCvEf4xiXTE5lLwzOl53x8pL\"\n",
        "        ]\n",
        "\n",
        "\n",
        "        # Función para descargar archivos CSV desde Google Drive\n",
        "        def download_csv_from_drive(url, filename):\n",
        "            response = requests.get(url)\n",
        "            response.raise_for_status()\n",
        "\n",
        "\n",
        "            # Configurar el cliente de Google Cloud Storage\n",
        "            storage_client = storage.Client()\n",
        "            bucket_name = \"bucket_final01\"\n",
        "            bucket = storage_client.bucket(bucket_name)\n",
        "\n",
        "\n",
        "            # Subir el archivo CSV a Google Cloud Storage\n",
        "            blob = bucket.blob(filename)\n",
        "            blob.upload_from_string(response.content, content_type='text/csv')\n",
        "\n",
        "\n",
        "            return filename\n",
        "\n",
        "\n",
        "        # Nombres de archivo para Google Cloud Storage\n",
        "        blob_names = [\"colectivos.csv\", \"metro.csv\"]\n",
        "\n",
        "\n",
        "        # Descargar y subir los archivos CSV\n",
        "        results = []\n",
        "        for i, url in enumerate(urls):\n",
        "            filename = blob_names[i]\n",
        "            result = download_csv_from_drive(url, filename)\n",
        "            results.append(result)\n",
        "\n",
        "\n",
        "        return f\"Archivos {results[0]} y {results[1]} subidos correctamente a {bucket_name}\"\n",
        "\n",
        "\n",
        "    except Exception as e:\n",
        "        return f\"Error: {str(e)}\"\n",
        "\n",
        "\n",
        "\n",
        "\n",
        "\n"
      ]
    },
    {
      "cell_type": "markdown",
      "source": [
        "REQUERIMENTS\n",
        "functions-framework\n",
        "requests\n",
        "gcsfs\n",
        "fsspec\n",
        "pandas\n",
        "pandas-gbq\n",
        "google-cloud-storage\n"
      ],
      "metadata": {
        "id": "CFVMW5rqd4ZI"
      }
    }
  ]
}